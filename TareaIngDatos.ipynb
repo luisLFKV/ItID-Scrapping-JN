{
 "cells": [
  {
   "cell_type": "markdown",
   "id": "e10bd864",
   "metadata": {},
   "source": [
    "### Importación de las librerías"
   ]
  },
  {
   "cell_type": "code",
   "execution_count": 10,
   "id": "0c68f6cd-7a69-4561-a59c-f7bca28eec1f",
   "metadata": {},
   "outputs": [],
   "source": [
    "import requests\n",
    "import pandas as pd\n",
    "from bs4 import BeautifulSoup"
   ]
  },
  {
   "cell_type": "markdown",
   "id": "586f4ece",
   "metadata": {},
   "source": [
    "### Configuración inicial"
   ]
  },
  {
   "cell_type": "code",
   "execution_count": null,
   "id": "a312398e-2529-48f6-9dfa-d1f3fdf6fb4a",
   "metadata": {},
   "outputs": [],
   "source": [
    "meses = ['enero', 'febrero', 'marzo', 'abril', 'mayo', 'junio', 'julio', 'agosto', 'septiembre', 'octubre', 'noviembre', 'diciembre']\n",
    "headers = {\n",
    "    \"User-Agent\": \"Mozilla/5.0 (Windows NT 10.0; Win64; x64) AppleWebKit/537.36 (KHTML, like Gecko) Chrome/110.0.0.0 Safari/537.36\",\n",
    "    \"Accept-Language\": \"es-ES,es;q=0.9\",\n",
    "    \"Referer\": \"https://www.lajornadamaya.mx/\",\n",
    "}\n",
    "directorio = \"\" #Direcctorio donde se guardará el CSV\n",
    "# Crear un DataFrame vacío para almacenar todas las noticias\n",
    "df_noticias = pd.DataFrame(columns=[\"Título\", \"Fecha\", \"Contenido\"])"
   ]
  },
  {
   "cell_type": "markdown",
   "id": "28e89fbd",
   "metadata": {},
   "source": [
    "### Función para obtener los enlaces de las noticias por mes"
   ]
  },
  {
   "cell_type": "code",
   "execution_count": 12,
   "id": "e7b83568-77fc-40f3-befa-f760d5363449",
   "metadata": {},
   "outputs": [],
   "source": [
    "def get_news_links(mes, headers):\n",
    "    # URL base para la letra\n",
    "    base_url = \"https://www.lajornadamaya.mx/k'iintsil/\"\n",
    "    href_list = set()  # Conjunto para evitar duplicados\n",
    "\n",
    "    url = f\"{base_url}{mes}-2019\"\n",
    "    print(f\"Obteniendo página: {url}\")  # Verificación de la URL actual\n",
    "    response = requests.get(url, headers=headers)\n",
    "\n",
    "    # Verificar si la respuesta fue exitosa\n",
    "    if response.status_code != 200:\n",
    "        print(f\"Error al acceder a la página: {response.status_code}\")\n",
    "        return list(href_list)\n",
    "\n",
    "    content = response.content\n",
    "    soup = BeautifulSoup(content, 'html.parser')\n",
    "\n",
    "    # Buscar todas las etiquetas <a> dentro de <h5>\n",
    "    for h5 in soup.find_all('h5'):\n",
    "        a = h5.find('a', href=True)\n",
    "        if a:\n",
    "            link = a['href']\n",
    "            if link.startswith('http'):\n",
    "                href_list.add(link)  # Usa add() para asegurarte de no agregar duplicados\n",
    "\n",
    "    return list(href_list)  # Convertir el conjunto en lista para el resultado"
   ]
  },
  {
   "cell_type": "markdown",
   "id": "d5ccef19",
   "metadata": {},
   "source": [
    "### Función para obtener los datos de cada noticia"
   ]
  },
  {
   "cell_type": "code",
   "execution_count": 13,
   "id": "e1638371-2968-430e-b6e0-9d82c2bacee0",
   "metadata": {},
   "outputs": [],
   "source": [
    "def getInfo(link, headers):\n",
    "    # Hacer la solicitud HTTP\n",
    "    response = requests.get(link, headers=headers)\n",
    "\n",
    "    if response.status_code != 200:\n",
    "        print(f\"Error al acceder a {link}: {response.status_code}\")\n",
    "        return None  # Si falla, regresamos None\n",
    "\n",
    "    # Analizar el contenido HTML\n",
    "    soup = BeautifulSoup(response.content, 'html.parser')\n",
    "\n",
    "    # Extraer título\n",
    "    titulo_tag = soup.find('a', class_='post-headline')\n",
    "    titulo = titulo_tag.get_text(strip=True) if titulo_tag else \"Sin título\"\n",
    "\n",
    "    # Extraer la fecha correctamente\n",
    "    fecha = \"Sin fecha\"\n",
    "    fecha_tag = soup.find('p', class_='maya')\n",
    "    if fecha_tag:\n",
    "        fecha_siguiente = fecha_tag.find_next_sibling('p')  # Tomamos el siguiente <p> con la fecha\n",
    "        if fecha_siguiente:\n",
    "            fecha = fecha_siguiente.get_text(strip=True).split('|')[0].strip()\n",
    "\n",
    "    # Extraer el contenido después de la fecha\n",
    "    contenido = []\n",
    "    contenido_iniciado = False\n",
    "\n",
    "    for p in soup.find_all('p'):\n",
    "        texto_parrafo = p.get_text(separator=' ', strip=True)\n",
    "\n",
    "        # Saltamos la fecha y los párrafos previos\n",
    "        if fecha_siguiente and p == fecha_siguiente:\n",
    "            contenido_iniciado = True\n",
    "            continue\n",
    "\n",
    "        # Si ya pasamos la fecha, agregamos los párrafos al contenido\n",
    "        if contenido_iniciado and texto_parrafo:\n",
    "            contenido.append(texto_parrafo)\n",
    "\n",
    "    return titulo, fecha, contenido"
   ]
  },
  {
   "cell_type": "markdown",
   "id": "fd0c2ca7",
   "metadata": {},
   "source": [
    "### Extracción de la información del año 2019"
   ]
  },
  {
   "cell_type": "code",
   "execution_count": 14,
   "id": "5a78d443-5775-4298-a555-604d1505f0ba",
   "metadata": {},
   "outputs": [
    {
     "name": "stdout",
     "output_type": "stream",
     "text": [
      "Obteniendo página: https://www.lajornadamaya.mx/k'iintsil/enero-2019\n",
      "Obteniendo página: https://www.lajornadamaya.mx/k'iintsil/febrero-2019\n",
      "Obteniendo página: https://www.lajornadamaya.mx/k'iintsil/marzo-2019\n",
      "Obteniendo página: https://www.lajornadamaya.mx/k'iintsil/abril-2019\n",
      "Obteniendo página: https://www.lajornadamaya.mx/k'iintsil/mayo-2019\n",
      "Obteniendo página: https://www.lajornadamaya.mx/k'iintsil/junio-2019\n",
      "Obteniendo página: https://www.lajornadamaya.mx/k'iintsil/julio-2019\n",
      "Obteniendo página: https://www.lajornadamaya.mx/k'iintsil/agosto-2019\n",
      "Obteniendo página: https://www.lajornadamaya.mx/k'iintsil/septiembre-2019\n",
      "Obteniendo página: https://www.lajornadamaya.mx/k'iintsil/octubre-2019\n",
      "Obteniendo página: https://www.lajornadamaya.mx/k'iintsil/noviembre-2019\n",
      "Obteniendo página: https://www.lajornadamaya.mx/k'iintsil/diciembre-2019\n"
     ]
    }
   ],
   "source": [
    "#Esta sería la compilación completa\n",
    "# Iterar sobre cada mes\n",
    "for mes in meses:\n",
    "    links_mes = sorted(get_news_links(mes, headers), reverse=True)# Obtener links del mes ordenados\n",
    "    \n",
    "    for link in links_mes:\n",
    "        noticia = getInfo(link, headers)  # Extraer la info de la noticia\n",
    "        \n",
    "        if noticia:\n",
    "            df_noticias.loc[len(df_noticias)] = noticia  # Agregar al DataFrame"
   ]
  },
  {
   "cell_type": "markdown",
   "id": "6488e7a1",
   "metadata": {},
   "source": [
    "### Guardado del CSV"
   ]
  },
  {
   "cell_type": "code",
   "execution_count": 15,
   "id": "dc01d7f8-8dbb-4480-86cb-ec31bbbf6b31",
   "metadata": {},
   "outputs": [],
   "source": [
    "df_noticias.to_csv(directorio + 'noticias.csv', index=False)"
   ]
  },
  {
   "cell_type": "markdown",
   "id": "42721edd",
   "metadata": {},
   "source": [
    "\n",
    "# *Pruebas"
   ]
  },
  {
   "cell_type": "code",
   "execution_count": 16,
   "id": "93eafd09",
   "metadata": {},
   "outputs": [
    {
     "data": {
      "text/html": [
       "<div>\n",
       "<style scoped>\n",
       "    .dataframe tbody tr th:only-of-type {\n",
       "        vertical-align: middle;\n",
       "    }\n",
       "\n",
       "    .dataframe tbody tr th {\n",
       "        vertical-align: top;\n",
       "    }\n",
       "\n",
       "    .dataframe thead th {\n",
       "        text-align: right;\n",
       "    }\n",
       "</style>\n",
       "<table border=\"1\" class=\"dataframe\">\n",
       "  <thead>\n",
       "    <tr style=\"text-align: right;\">\n",
       "      <th></th>\n",
       "      <th>Contenido</th>\n",
       "    </tr>\n",
       "  </thead>\n",
       "  <tbody>\n",
       "    <tr>\n",
       "      <th>0</th>\n",
       "      <td>[Fabiola Palapa Quijas Oochel: Editorial Tauru...</td>\n",
       "    </tr>\n",
       "    <tr>\n",
       "      <th>1</th>\n",
       "      <td>[AFP Oochel Rodrigo Díaz Guzmán K'iintsill Dav...</td>\n",
       "    </tr>\n",
       "    <tr>\n",
       "      <th>2</th>\n",
       "      <td>[Carlos Paul Oochel Cortesía de la Fonoteca/ C...</td>\n",
       "    </tr>\n",
       "    <tr>\n",
       "      <th>3</th>\n",
       "      <td>[Blanche Petrich Oochelo'ob Jesús Villaseca / ...</td>\n",
       "    </tr>\n",
       "    <tr>\n",
       "      <th>4</th>\n",
       "      <td>[Oochel Cortesía del Museo K'iintsil Lunes 28 ...</td>\n",
       "    </tr>\n",
       "    <tr>\n",
       "      <th>...</th>\n",
       "      <td>...</td>\n",
       "    </tr>\n",
       "    <tr>\n",
       "      <th>63</th>\n",
       "      <td>[Mónica Mateos-Vega y Juan Carlos G. Partida O...</td>\n",
       "    </tr>\n",
       "    <tr>\n",
       "      <th>64</th>\n",
       "      <td>[Reuters OOchel Time K'iintsil Jueves 12 ti' d...</td>\n",
       "    </tr>\n",
       "    <tr>\n",
       "      <th>65</th>\n",
       "      <td>[Notimex OOchel Mauricio Murat K'iintsil Viern...</td>\n",
       "    </tr>\n",
       "    <tr>\n",
       "      <th>66</th>\n",
       "      <td>[Fabiola Martínez Oochel Fernando Eloy K'iints...</td>\n",
       "    </tr>\n",
       "    <tr>\n",
       "      <th>67</th>\n",
       "      <td>[Graciela Ortiz Oochel Tomada de web K'iintsil...</td>\n",
       "    </tr>\n",
       "  </tbody>\n",
       "</table>\n",
       "<p>68 rows × 1 columns</p>\n",
       "</div>"
      ],
      "text/plain": [
       "                                            Contenido\n",
       "0   [Fabiola Palapa Quijas Oochel: Editorial Tauru...\n",
       "1   [AFP Oochel Rodrigo Díaz Guzmán K'iintsill Dav...\n",
       "2   [Carlos Paul Oochel Cortesía de la Fonoteca/ C...\n",
       "3   [Blanche Petrich Oochelo'ob Jesús Villaseca / ...\n",
       "4   [Oochel Cortesía del Museo K'iintsil Lunes 28 ...\n",
       "..                                                ...\n",
       "63  [Mónica Mateos-Vega y Juan Carlos G. Partida O...\n",
       "64  [Reuters OOchel Time K'iintsil Jueves 12 ti' d...\n",
       "65  [Notimex OOchel Mauricio Murat K'iintsil Viern...\n",
       "66  [Fabiola Martínez Oochel Fernando Eloy K'iints...\n",
       "67  [Graciela Ortiz Oochel Tomada de web K'iintsil...\n",
       "\n",
       "[68 rows x 1 columns]"
      ]
     },
     "execution_count": 16,
     "metadata": {},
     "output_type": "execute_result"
    }
   ],
   "source": [
    "df_noticias[['Contenido']]"
   ]
  },
  {
   "cell_type": "code",
   "execution_count": 17,
   "id": "f3076e79-453e-4da4-ace8-3ef704e23294",
   "metadata": {},
   "outputs": [
    {
     "name": "stdout",
     "output_type": "stream",
     "text": [
      "Obteniendo página: https://www.lajornadamaya.mx/k'iintsil/noviembre-2019\n"
     ]
    },
    {
     "data": {
      "text/plain": [
       "[\"https://www.lajornadamaya.mx/k'iintsil/114418/k-ex-ma-liik-ik-kaaj-tuka-ateene-ku-beeta-al-xandu-u-k-iimbesajil-pixano-ob-tu-kaajil-juchitan\",\n",
       " \"https://www.lajornadamaya.mx/k'iintsil/114282/k-aak-e-tu-chiimpoltaj-u-najil-k-uj-u-ko-olebil-guadalupe-ich-notre-dame\",\n",
       " \"https://www.lajornadamaya.mx/k'iintsil/114186/jts-iib-k-ajla-ayil-its-ato-obe-ku-ki-imak-ooltiko-ob-oochel-tukulta-an-ku-nup-ik-da-vinci-yeetel-maquiavelo\",\n",
       " \"https://www.lajornadamaya.mx/k'iintsil/114114/ya-abchaj-u-goorilailo-ob-wiits-ba-ale-laayli-ich-sajbe-entsil-yaniko-ob\",\n",
       " \"https://www.lajornadamaya.mx/k'iintsil/114043/kaxta-ab-tu-kaajil-tultepece-u-yaax-traampasil-mamut-yanchaj-yook-ol-kaab\",\n",
       " \"https://www.lajornadamaya.mx/k'iintsil/114024/u-tsikbalil-tsiimin-k-aak-\",\n",
       " \"https://www.lajornadamaya.mx/k'iintsil/113779/cirque-du-soleile-ku-chiimpoltik-leo-messi-yeetel-cha-an-yook-lal-u-kuxtal\",\n",
       " \"https://www.lajornadamaya.mx/k'iintsil/113680/yook-lal-u-muuk-il-ulaak-muuch-kabilo-obe-taan-u-xu-ulul-yaax-maseewal-jala-achil-evo-morales\",\n",
       " \"https://www.lajornadamaya.mx/k'iintsil/113596/ila-ab-tuka-ateen-ichil-u-k-aaxilo-ob-vietname-juntuul-jela-an-ba-alche-ch-een-u-yila-al-25-ja-abo-ob-paachil\",\n",
       " \"https://www.lajornadamaya.mx/k'iintsil/113527/u-ka-ateen-u-jach-buulul-u-noj-kaajil-venecia\",\n",
       " \"https://www.lajornadamaya.mx/k'iintsil/113288/bo-ono-ob-beeta-an-yeetel-inteligencia-artificiale-ma-ko-on-je-el-bix-tukulta-abi-\",\n",
       " \"https://www.lajornadamaya.mx/k'iintsil/113136/chiimpolta-ab-muxe-ob-u-yoox-jaatsil-maak-ich-zapoteco-miatsil\",\n",
       " \"https://www.lajornadamaya.mx/k'iintsil/113060/chinae-ku-bo-onol-peek-beey-paanda-ob-je-el-u-loobilta-al-u-yoot-elo-ob\",\n",
       " \"https://www.lajornadamaya.mx/k'iintsil/112826/ma-taan-u-yantal-u-xiimbal-e-esajil-victoria-s-secret-tumen-yaan-talamilo-ob-yook-lal-taak-in\"]"
      ]
     },
     "execution_count": 17,
     "metadata": {},
     "output_type": "execute_result"
    }
   ],
   "source": [
    "#Esto es una prueba\n",
    "links_mes = sorted(get_news_links('noviembre', headers), reverse=True) # Obtener links del mes y ordenarlos\n",
    "links_mes"
   ]
  },
  {
   "cell_type": "code",
   "execution_count": 18,
   "id": "6adea7da",
   "metadata": {},
   "outputs": [
    {
     "data": {
      "text/plain": [
       "('Jts’íib k’ajla’ayil its’ato’obe’ ku ki’imak óoltiko’ob oochel tukulta’an ku nup’ik Da Vinci yéetel Maquiavelo',\n",
       " '05/11/2019',\n",
       " [\"AFp Oochel K'iintsil Martes 5 ti' noviembre, 2019 Rennes. U yoochel ti’ u táan u yich juntúul k’olis máak yaan u me’exe’ tu ts’áaj tuukul ichil ajts’íib k’ajla’ayo’ob yéetel máaxo’ob uts tu yicho’ob its’at, tumen ku tukultiko’obe’ tu kaxto’ob jump’éel k’a’anan meyaj mix juntéen yáax ila’ak ichil u máan ja’ab’ob. Le je’ela’ ti’ yaan ka’ach ichil junmúuch’ meyajo’ob yano’ob ichil jump’éel káastiyo yaan tu k’íiwikil Francia. Jump’éel k’uben t’aan ts’íibta’an 145 ja’abo’ob paachil yéetel jts’a’ab k’ajóoltbil tu ja’abil 2018e’, ku ya’alik ma’ xaan wa le ku chikpajalo’ u yoochel Nicolás Maquiavelo, juntúul filoosofóo italianoil kuxlaj ichil u siigloil XV yéetel XVI, leti’ u yuumil El príncipe, ba’ale’ boonile’ beeta’ab tumen réenasentistaa jka’ansaj Leonardo da Vinci. Kex tumen táan u binetik ya’abach winalo’ob ti’al u beeta’al xaak’alilo’ob ti’al u yila’al máax le bona’an te’elo’ yéetel tu’ux u taale’, Sylvie Giroux, máax jo’olbesik u káastiyoil Valencay tu k’íiwikil Franciae’, ku ya’alik “jump’éel ba’al je’el u yúuchule’”, ma’ xaan wa Da Vinci máax bonej. Te’e kúuchilo’ ti’ yaan meyaj ti’alinta’ab tumen Charles-Maurice de Talleyrand-Perigord, juntúul máak jach kaambanaja’an, ts’o’okole’ k’ajóolta’an beey Talleyrand, máax sa’at u kuxtal tu ja’abil 1838. Le ja’ab máaniko’ kaxta’ab jump’éel ju’un ts’íibta’an u ja’abil 1874 yéetel u k’aaba’ u cháambelaanil Talleyrand, tu’ux ku ch’a’achibtik u boonil Maquiavelo beeta’an yóok’ol che’ ku p’isik 55 tu chowakil yéetel 42 tu kóochil, beeta’an tumen Da Vinci. Ba’ax kaxta’abe’ tu beetaj u máan kaxtbil le boonila’, ichil u jejeláasil boonilo’ob its’at ti’alinta’ab tumen Talleyrand, beey úuchik u kaxta’alo’. Jach óoli’ beey fiiloosofóo fráancesil Michel de Montaigne Oochele’ ku chikbesik juntúul xiib ma’ táan u che’eji’, chowak u pool yéetel tiich’il u ni’, beyxan yaan u me’ex yéetel u búukintmaj jump’éel boox nook’, sak káamisa yéetel kóorbatáa. “Ma’ chéen tumen ti’ ku ya’alik ichil ju’uno’obe’ u k’áat u ya’al wa jaaji’”, ma’ jeets’el wa jump’éel u yoochel Maquiavelo boona’an tumen Da Vinci, beey tu ya’alaj Anne Gerardot, máax ku meyaj ti’ u kúuchil úuchben ju’uno’ob líik’sa’ano’ob. Yéetel u yáantajil uláak’ nu’ukulo’obe’ yaan u yila’al wa le meyajo’ ti’ jóok’ tu k’ab jka’ansaj réenasentistáa.\"])"
      ]
     },
     "execution_count": 18,
     "metadata": {},
     "output_type": "execute_result"
    }
   ],
   "source": [
    "#Esto es una prueba\n",
    "noticia = getInfo(links_mes[2], headers) #Obtener la información de la noticia\n",
    "noticia"
   ]
  },
  {
   "cell_type": "code",
   "execution_count": null,
   "id": "2609110e",
   "metadata": {},
   "outputs": [],
   "source": []
  }
 ],
 "metadata": {
  "kernelspec": {
   "display_name": ".venv",
   "language": "python",
   "name": "python3"
  },
  "language_info": {
   "codemirror_mode": {
    "name": "ipython",
    "version": 3
   },
   "file_extension": ".py",
   "mimetype": "text/x-python",
   "name": "python",
   "nbconvert_exporter": "python",
   "pygments_lexer": "ipython3",
   "version": "3.12.3"
  }
 },
 "nbformat": 4,
 "nbformat_minor": 5
}
